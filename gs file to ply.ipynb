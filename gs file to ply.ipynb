{
 "cells": [
  {
   "cell_type": "code",
   "execution_count": 1,
   "metadata": {},
   "outputs": [
    {
     "name": "stdout",
     "output_type": "stream",
     "text": [
      "Binary PLY file exported successfully to C:/Users/91910/Downloads/gaussian_model.ply!\n"
     ]
    }
   ],
   "source": [
    "import torch\n",
    "import numpy as np\n",
    "import struct\n",
    "import os\n",
    "\n",
    "# Set the path to your checkpoint files\n",
    "checkpoint_dir = \"C:/Users/91910/Downloads/gs_output/checkpoint_5000\"\n",
    "\n",
    "# Load Gaussian parameters\n",
    "positions = torch.load(os.path.join(checkpoint_dir, \"positions.pt\"))\n",
    "colors = torch.load(os.path.join(checkpoint_dir, \"colors.pt\"))\n",
    "\n",
    "# Prepare data for PLY\n",
    "num_gaussians = positions.shape[0]\n",
    "\n",
    "# Write to binary PLY file\n",
    "ply_file_path = \"C:/Users/91910/Downloads/gaussian_model.ply\"\n",
    "with open(ply_file_path, 'wb') as f:\n",
    "    # Write the PLY header\n",
    "    f.write(b\"ply\\n\")\n",
    "    f.write(b\"format binary_little_endian 1.0\\n\")\n",
    "    f.write(f\"element vertex {num_gaussians}\\n\".encode('utf-8'))\n",
    "    f.write(b\"property float x\\n\")\n",
    "    f.write(b\"property float y\\n\")\n",
    "    f.write(b\"property float z\\n\")\n",
    "    f.write(b\"property uchar red\\n\")\n",
    "    f.write(b\"property uchar green\\n\")\n",
    "    f.write(b\"property uchar blue\\n\")\n",
    "    f.write(b\"end_header\\n\")\n",
    "\n",
    "    # Write vertex data\n",
    "    for i in range(num_gaussians):\n",
    "        pos = positions[i].cpu().numpy()\n",
    "        color = (colors[i].cpu().numpy() * 255).astype(np.uint8)  # Convert to 0-255 range\n",
    "        f.write(struct.pack('fffBBB', pos[0], pos[1], pos[2], color[0], color[1], color[2]))\n",
    "\n",
    "print(f\"Binary PLY file exported successfully to {ply_file_path}!\")"
   ]
  },
  {
   "cell_type": "code",
   "execution_count": null,
   "metadata": {},
   "outputs": [],
   "source": []
  }
 ],
 "metadata": {
  "kernelspec": {
   "display_name": "Python (3dgs-env)",
   "language": "python",
   "name": "3dgs-env"
  },
  "language_info": {
   "codemirror_mode": {
    "name": "ipython",
    "version": 3
   },
   "file_extension": ".py",
   "mimetype": "text/x-python",
   "name": "python",
   "nbconvert_exporter": "python",
   "pygments_lexer": "ipython3",
   "version": "3.9.21"
  }
 },
 "nbformat": 4,
 "nbformat_minor": 2
}
