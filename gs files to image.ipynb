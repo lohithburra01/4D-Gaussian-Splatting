{
 "cells": [
  {
   "cell_type": "code",
   "execution_count": 10,
   "metadata": {},
   "outputs": [
    {
     "name": "stdout",
     "output_type": "stream",
     "text": [
      "Image saved successfully to C:/Users/91910/Downloads/gaussian_visualization.png!\n"
     ]
    }
   ],
   "source": [
    "import torch\n",
    "import os\n",
    "import numpy as np\n",
    "import matplotlib.pyplot as plt\n",
    "from mpl_toolkits.mplot3d import Axes3D\n",
    "\n",
    "# Set the path to your checkpoint files\n",
    "checkpoint_dir = \"C:/Users/91910/Downloads/gs_output/checkpoint_20000\"\n",
    "\n",
    "# Load Gaussian parameters\n",
    "positions = torch.load(os.path.join(checkpoint_dir, \"positions.pt\"))\n",
    "colors = torch.load(os.path.join(checkpoint_dir, \"colors.pt\"))\n",
    "\n",
    "# Prepare data for visualization\n",
    "x = positions[:, 0].cpu().numpy()\n",
    "y = positions[:, 1].cpu().numpy()\n",
    "z = positions[:, 2].cpu().numpy()\n",
    "\n",
    "# Normalize colors to [0, 1] for matplotlib\n",
    "colors_np = colors.cpu().numpy()\n",
    "\n",
    "# Create a scatter plot\n",
    "fig = plt.figure(figsize=(20, 20))\n",
    "ax = fig.add_subplot(111, projection='3d')\n",
    "\n",
    "# Adjust the size of the points\n",
    "point_size = 50  # Increase point size for better visibility\n",
    "sc = ax.scatter(x, y, z, c=colors_np, marker='o', s=point_size)\n",
    "\n",
    "# Set labels\n",
    "ax.set_xlabel('X')\n",
    "ax.set_ylabel('Y')\n",
    "ax.set_zlabel('Z')\n",
    "plt.title('Gaussian Splatting Visualization')\n",
    "\n",
    "# Set limits for better visibility\n",
    "ax.set_xlim([x.min(), x.max()])\n",
    "ax.set_ylim([y.min(), y.max()])\n",
    "ax.set_zlim([z.min(), z.max()])\n",
    "\n",
    "# Save the image\n",
    "image_path = \"C:/Users/91910/Downloads/gaussian_visualization.png\"\n",
    "plt.savefig(image_path)\n",
    "plt.close()\n",
    "\n",
    "print(f\"Image saved successfully to {image_path}!\")"
   ]
  },
  {
   "cell_type": "code",
   "execution_count": null,
   "metadata": {},
   "outputs": [],
   "source": []
  }
 ],
 "metadata": {
  "kernelspec": {
   "display_name": "Python (3dgs-env)",
   "language": "python",
   "name": "3dgs-env"
  },
  "language_info": {
   "codemirror_mode": {
    "name": "ipython",
    "version": 3
   },
   "file_extension": ".py",
   "mimetype": "text/x-python",
   "name": "python",
   "nbconvert_exporter": "python",
   "pygments_lexer": "ipython3",
   "version": "3.9.21"
  }
 },
 "nbformat": 4,
 "nbformat_minor": 2
}
